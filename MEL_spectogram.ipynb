{
  "nbformat": 4,
  "nbformat_minor": 0,
  "metadata": {
    "colab": {
      "name": "MEL-spectogram.ipynb",
      "provenance": [],
      "collapsed_sections": [],
      "authorship_tag": "ABX9TyOV8t6b1Ks/Jkh1ggg+/BS3",
      "include_colab_link": true
    },
    "kernelspec": {
      "display_name": "Python 3",
      "name": "python3"
    },
    "language_info": {
      "name": "python"
    }
  },
  "cells": [
    {
      "cell_type": "markdown",
      "metadata": {
        "id": "view-in-github",
        "colab_type": "text"
      },
      "source": [
        "<a href=\"https://colab.research.google.com/github/GauravDawra/MellowD/blob/main/MEL_spectogram.ipynb\" target=\"_parent\"><img src=\"https://colab.research.google.com/assets/colab-badge.svg\" alt=\"Open In Colab\"/></a>"
      ]
    },
    {
      "cell_type": "code",
      "metadata": {
        "id": "GNPavNLer-m-"
      },
      "source": [
        "!pip install librosa"
      ],
      "execution_count": null,
      "outputs": []
    },
    {
      "cell_type": "code",
      "metadata": {
        "id": "rMfVgyaIbz2G"
      },
      "source": [
        "from PIL import Image\n",
        "import librosa\n",
        "import librosa.display\n",
        "import numpy as np\n",
        "import matplotlib.pyplot as plt\n"
      ],
      "execution_count": null,
      "outputs": []
    },
    {
      "cell_type": "code",
      "metadata": {
        "colab": {
          "base_uri": "https://localhost:8080/"
        },
        "id": "fJ54oKOHsaWg",
        "outputId": "448f0a77-ac00-429a-b438-527913de4b33"
      },
      "source": [
        "from google.colab import drive\n",
        "drive.mount('/gd')"
      ],
      "execution_count": null,
      "outputs": [
        {
          "output_type": "stream",
          "name": "stdout",
          "text": [
            "Mounted at /gd\n"
          ]
        }
      ]
    },
    {
      "cell_type": "code",
      "metadata": {
        "id": "SUydg7Ins8AU"
      },
      "source": [
        "# for generating a single MEL spectogram\n",
        "import librosa\n",
        "import librosa.display\n",
        "import numpy as np\n",
        "import matplotlib.pyplot as plt\n",
        "\n",
        "y, sr = librosa.load('./reggae.00000.wav')\n",
        "plt.rcParams['figure.figsize'] = [ 3.0, 2.0]\n",
        "plt.rcParams[\"figure.autolayout\"] = True\n",
        "plt.rcParams['figure.dpi'] = 50\n",
        "fig, ax = plt.subplots()\n",
        "plt.axes([0., 0., 1., 1.], frameon=False, xticks=[], yticks=[])\n",
        "spect = librosa.feature.melspectrogram(y=y, sr=sr, n_fft=2048, hop_length=1024)\n",
        "# print(spect.shape)\n",
        "mel_spect = librosa.power_to_db(spect, ref=np.max)\n",
        "# print(type(mel_spect))\n",
        "\n",
        "img = librosa.display.specshow(mel_spect, sr=sr, hop_length=1024, fmax=8000);\n",
        "# fig.colorbar(img, ax=ax, format='%+2.0f dB')\n",
        "# ax.set(title='Mel-frequency spectrogram reggae')\n",
        "plt.savefig('reggae.jpeg', bbox_inches='tight', pad_inches=0)\n",
        "print(len(y) / sr)"
      ],
      "execution_count": null,
      "outputs": []
    },
    {
      "cell_type": "code",
      "metadata": {
        "id": "T10MifHM07dv"
      },
      "source": [
        "from PIL import Image\n",
        "im = Image.open('./reggae.jpeg')\n",
        "im = np.array(im)\n",
        "np.save('test', im)\n",
        "print(im)"
      ],
      "execution_count": null,
      "outputs": []
    },
    {
      "cell_type": "code",
      "metadata": {
        "id": "qhdCHjYwwV3a",
        "colab": {
          "base_uri": "https://localhost:8080/"
        },
        "outputId": "fd79d42b-a046-4c4d-9517-7b3002ef62e1"
      },
      "source": [
        "import os\n",
        "\n",
        "classes = ['blues', 'classical', 'country', 'disco', 'hiphop', 'jazz', 'metal', 'pop', 'reggae', 'rock']\n",
        "# 100 150\n",
        "mel_data = np.zeros(shape=(1000, 3, 100, 150))\n",
        "labels = np.zeros(shape=(1000))\n",
        "cnt = 0\n",
        "for i, genre in enumerate(classes):\n",
        "    list_of_files = os.listdir('/gd/MyDrive/MellowD/genres/' + genre)\n",
        "    list_of_files = sorted(list_of_files)\n",
        "    print(f\"starting {genre}\")\n",
        "    for song in list_of_files:\n",
        "        # # if(song[0] != 'b'): break\n",
        "        y, sr = librosa.load('/gd/MyDrive/MellowD/genres/' + genre +'/'+ song)\n",
        "        fig, ax = plt.subplots()\n",
        "        plt.axes([0., 0., 1., 1.], frameon=False, xticks=[], yticks=[])\n",
        "        spect = librosa.feature.melspectrogram(y=y, sr=sr, n_fft=2048, hop_length=1024)\n",
        "        mel_spect = librosa.power_to_db(spect, ref=np.max)\n",
        "        img = librosa.display.specshow(mel_spect, sr=sr, hop_length=1024, fmax=8000)\n",
        "        path = '/gd/MyDrive/MellowD/genres/mel_data/images/' + song[:-4] + '.jpg'\n",
        "        plt.savefig(path, bbox_inches='tight', pad_inches=0)\n",
        "        im = Image.open(path)\n",
        "        # im.show()\n",
        "        im = np.array(im)\n",
        "        mel_data[cnt] = np.transpose(im, (2, 0, 1))\n",
        "        # print(mel_data[cnt].shape)\n",
        "        labels[cnt] = i\n",
        "        cnt += 1\n",
        "        # break\n",
        "    print(f\"Done for {genre}, {len(list_of_files)}\")\n",
        "    # break\n",
        "print(mel_data.shape)\n",
        "print(labels.shape)\n",
        "np.save('/gd/MyDrive/MellowD/genres/mel_data/numerical_data/images', mel_data)\n",
        "np.save('/gd/MyDrive/MellowD/genres/mel_data/numerical_data/labels', labels)"
      ],
      "execution_count": null,
      "outputs": [
        {
          "output_type": "stream",
          "name": "stdout",
          "text": [
            "starting blues\n",
            "Done for blues, 100\n",
            "starting classical\n",
            "Done for classical, 100\n",
            "starting country\n",
            "Done for country, 100\n",
            "starting disco\n",
            "Done for disco, 100\n",
            "starting hiphop\n",
            "Done for hiphop, 100\n",
            "starting jazz\n",
            "Done for jazz, 100\n",
            "starting metal\n",
            "Done for metal, 100\n",
            "starting pop\n",
            "Done for pop, 100\n",
            "starting reggae\n",
            "Done for reggae, 100\n",
            "starting rock\n",
            "Done for rock, 100\n",
            "(1000, 3, 100, 150)\n",
            "(1000,)\n"
          ]
        }
      ]
    },
    {
      "cell_type": "code",
      "metadata": {
        "colab": {
          "base_uri": "https://localhost:8080/"
        },
        "id": "8VUKROrtXBZ9",
        "outputId": "c9b890a6-61a7-4679-cd09-d3d009246082"
      },
      "source": [
        "# l = os.listdir('/gd/MyDrive/MellowD/genres/mel_data/images/')\n",
        "# print(len(l))"
      ],
      "execution_count": null,
      "outputs": [
        {
          "output_type": "stream",
          "name": "stdout",
          "text": [
            "5143828.0\n"
          ]
        }
      ]
    }
  ]
}